{
 "cells": [
  {
   "cell_type": "code",
   "execution_count": 1,
   "metadata": {},
   "outputs": [],
   "source": [
    "import pandas as pd\n",
    "import numpy as np\n",
    "import random\n",
    "import re"
   ]
  },
  {
   "cell_type": "code",
   "execution_count": 137,
   "metadata": {},
   "outputs": [],
   "source": [
    "# Lists\n",
    "temp = ['Hot','Cold']\n",
    "meat = ['Roast_Turkey','Smoked_Turkey','Grilled_Chicken_Breast','Roast_Beef','Corned_Beef','Pastrami','Black_Forest_Ham','Organic_Smoked_Tofu','Dry_Salami','Tuna_Salad','Chicken_Salad','Prosciutto','Hot_Coppa','Mild_Coppa','Honey_Ham']\n",
    "greens = ['lettuce','tomato','red_onions','pickles','pepperoncinis','mixed_greens','arugula','sprouts','basil','jalapenos']\n",
    "spreads = ['mayonnaise','deli_mustard','dijon_mustard','aioli','chipotle_mayo','mendocino_mustard','basil_pesto','hummus','cranberry_sauce','sundried_tomato_pesto','balsamic_vinagrette']\n",
    "bread = ['sliced_wheat','sliced_rye','sliced_white','sliced_sourdough','french_roll(soft)','sourdough_roll','wheat_roll','rosemary_focaccia','ciabatta','dutch_crunch']\n",
    "cheese = ['pepperjack','monterey_jack','swiss','mozzarella','smoked_gouda','havarti','meunster','provolone','american_white','american_yellow','cheddar','no_cheese']\n",
    "extra = ['double_meat','double_cheese','avocado','guacamole','bacon','olive_oil&vinegar','roasted_red_peppers','goat_cheese','cream_cheese']\n",
    "separator = \",\"\n",
    "\n",
    "# Dictionaries\n",
    "everything = {'Hot':0,'Cold':0,'Roast_Turkey':0,'Smoked_Turkey':0,'Grilled_Chicken_Breast':0,'Roast_Beef':0,'Corned_Beef':0,'Pastrami':0,'Black_Forest_Ham':0,'Organic_Smoked_Tofu':0,'Dry_Salami':0,'Tuna_Salad':0,'Chicken_Salad':0,'Prosciutto':1,'Hot_Coppa':1,'Mild_Coppa':1,'Honey_Ham':0.75,'lettuce':0,'tomato':0,'red_onions':0,'pickles':0,'pepperoncinis':0,'mixed_greens':0,'arugula':0,'sprouts':0,'basil':0,'jalapenos':0,'mayonnaise':0,'deli_mustard':0,'dijon_mustard':0,'aioli':0,'chipotle_mayo':0,'mendocino_mustard':0,'basil_pesto':0,'hummus':0,'cranberry_sauce':0,'sundried_tomato_pesto':0,'balsamic_vinagrette':0,'sliced_wheat':0,'sliced_rye':0,'sliced_white':0,'sliced_sourdough':0,'french_roll(soft)':0,'sourdough_roll':0,'wheat_roll':0,'rosemary_focaccia':0,'ciabatta':0,'dutch_crunch':0,'pepperjack':0,'monterey_jack':0,'swiss':0,'mozzarella':0,'smoked_gouda':0,'havarti':0,'meunster':0,'provolone':0,'american_white':0,'american_yellow':0,'cheddar':0,'no_cheese':0,'double_meat':2,'double_cheese':0.75,'avocado':0.75,'guacamole':0.75,'bacon':1,'olive_oil&vinegar':0,'roasted_red_peppers':0.75,'goat_cheese':0.75,'cream_cheese':0.75,'':0}\n"
   ]
  },
  {
   "cell_type": "code",
   "execution_count": 3,
   "metadata": {},
   "outputs": [],
   "source": [
    "# Deprecated,\n",
    "def sandwich_maker(x,y,z):\n",
    "    # x = number of greens, y = number of spreads, z = extras\n",
    "    #sandwich = str(random.choice(temp)) + \" \" + str(random.choice(meat))+ \" Sandwich with \" + str(separator.join(random.sample(greens,x)))+ \", \" + str(separator.join(random.sample(spreads,y)))+ \" on \" + str(random.choice(bread)) + \" with \" + str(random.choice(cheese))+'.'+\" Add \" +str(separator.join(random.sample(extras,z)))+\".\"\n",
    "    sandwich2 = (random.choice(temp)) + \",\" + str(random.choice(meat))+\",\" + str(separator.join(random.sample(greens,x)))+\",\" + str(separator.join(random.sample(spreads,y)))+\",\"+ str(random.choice(bread)) +\",\"+ str(random.choice(cheese))+\",\"+str(separator.join(random.sample(extra,z)))\n",
    "    sandwich2 = sandwich2.split(\",\")\n",
    "    cost = compute_price(sandwich2)\n",
    "    sandwich1 = str(sandwich2[0])+ \" \" +str(sandwich2[1])+ \" Sandwich with \" + str(sandwich2[2:2+x]) + \", \" + str(sandwich2[2+x:2+x+y]) + \" on \" + str(sandwich2[2+x+y:3+x+y]) + \" with \" + str(sandwich2[3+x+y:4+x+y]) + \".\" + \" Add \" + str(sandwich2[4+x+y:5+x+y+z])\n",
    "    print(\"This Sandwich costs $\"+ str(cost))\n",
    "    return print(sandwich1)\n"
   ]
  },
  {
   "cell_type": "code",
   "execution_count": 164,
   "metadata": {},
   "outputs": [
    {
     "name": "stdout",
     "output_type": "stream",
     "text": [
      "This Sandwich costs $10.49\n",
      "Cold Grilled_Chicken_Breast Sandwich with ['tomato'], ['mendocino_mustard', 'deli_mustard'] on ['rosemary_focaccia'] with ['provolone']. Add ['double_meat', 'avocado', 'double_cheese']\n"
     ]
    }
   ],
   "source": [
    "sandwich_maker(1,2,3)"
   ]
  },
  {
   "cell_type": "code",
   "execution_count": 253,
   "metadata": {},
   "outputs": [],
   "source": [
    "def compute_price(ingredients):\n",
    "    total = 6.99\n",
    "    total += sum([everything[s] for s in ingredients ])\n",
    "    return total"
   ]
  },
  {
   "cell_type": "code",
   "execution_count": 50,
   "metadata": {},
   "outputs": [],
   "source": [
    "CB = \"Cold Grilled Chicken Breast Sandwich with ['red onions', 'lettuce', 'tomato'], ['cranberry sauce', 'mayonnaise', 'hummus'] on rosemary focaccia with monterey jack. Add ['roasted red peppers', 'bacon'].\""
   ]
  },
  {
   "cell_type": "code",
   "execution_count": 287,
   "metadata": {},
   "outputs": [],
   "source": [
    "def sandwich_maker2(max_price,veggies,sauces,extras):\n",
    "    # Max price is max amount you want to pay\n",
    "    # Veggies (0-10), Sauces (0-12), Extras (0-8)\n",
    "    #sandwich = str(random.choice(temp)) + \" \" + str(random.choice(meat))+ \" Sandwich with \" + str(separator.join(random.sample(greens,x)))+ \", \" + str(separator.join(random.sample(spreads,y)))+ \" on \" + str(random.choice(bread)) + \" with \" + str(random.choice(cheese))+'.'+\" Add \" +str(separator.join(random.sample(extras,z)))+\".\"\n",
    "    while veggies < 0: # Checks for negatives\n",
    "        veggies += 1\n",
    "    while veggies > 10: # Checks for values greater than total veggies possible\n",
    "        veggies -= 1\n",
    "    while sauces < 0:\n",
    "        sauces += 1\n",
    "    while sauces > 12:\n",
    "        sauces -= 1\n",
    "    while extras < 0:\n",
    "        extras += 1\n",
    "    while extras > 8:\n",
    "        sauces -=1\n",
    "    rt = random.choice(temp)\n",
    "    rm = random.choice(meat)\n",
    "    rb = random.choice(bread)\n",
    "    rc = random.choice(cheese)\n",
    "    rv = separator.join(random.sample(greens,veggies))\n",
    "    rs = separator.join(random.sample(spreads,sauces))\n",
    "    ree = separator.join(random.sample(extra,extras))\n",
    "    #sandwich2 = rt + \",\" + rm +\",\"+ rb +\",\"+ rc +','+ rv +\",\" + rs +\",\"+ ree\n",
    "    sandwich2 = f\"{rt},{rm},{rb},{rc},{rv},{rs},{ree}\"\n",
    "    sandwich2 = sandwich2.split(\",\")\n",
    "    cost = compute_price(sandwich2)\n",
    "    if max_price < 6.99:\n",
    "        print(\"No sandwich is this cheap!\")\n",
    "    else:\n",
    "        while cost > max_price:\n",
    "                rt = random.choice(temp)\n",
    "                rm = random.choice(meat)\n",
    "                rb = random.choice(bread)\n",
    "                rc = random.choice(cheese)\n",
    "                rv = separator.join(random.sample(greens,veggies))\n",
    "                rs = separator.join(random.sample(spreads,sauces))\n",
    "                ree = separator.join(random.sample(extra,extras))\n",
    "                #sandwich2 = rt + \",\" + rm +\",\"+ rb +\",\"+ rc +','+ rv +\",\" + rs +\",\"+ ree\n",
    "                sandwich2 = f\"{rt},{rm},{rb},{rc},{rv},{rs},{ree}\"\n",
    "                sandwich2 = sandwich2.split(\",\")\n",
    "                cost = compute_price(sandwich2)\n",
    "                extras = abs(extras-1)\n",
    "                print(\"Extra additions have been lowered by 1 or changed to accomodate price\")\n",
    "        if cost <= max_price:\n",
    "            veggies = veggies +1\n",
    "            print(f\"This Sandwich costs ${cost}\") # Sick \n",
    "            sandwich = f\"{rt} {rm} Sandwich on {rb}, with {rc}, {rv} {rs}. Add {ree}.\"\n",
    "            #sandwich = rt + \" \" + rm + \" Sandwich on \" + rb + \", with \" + rc + \", \" + rv + \" \" + rs + \". Add \" + ree + \".\"\n",
    "            #sandwich = str(sandwich2[0])+ \" \" +str(sandwich2[1])+ \" Sandwich on \" + str(sandwich2[2]) + \", with \" + str(sandwich2[3]) + \" ,\" + str(sandwich2[4:4+veggies]) + \" with \" + str(sandwich2[4+veggies:4+veggies+sauces]) + \". Add \" + str(sandwich2[4+veggies+sauces:4+veggies+sauces+extras])\n",
    "            print(sandwich)\n",
    "    return\n",
    "\n",
    "# Want it to get as close to the entered price as possible\n",
    "# Variables fix the issue with 0's and makes them not in a list []!\n"
   ]
  },
  {
   "cell_type": "code",
   "execution_count": 288,
   "metadata": {},
   "outputs": [
    {
     "name": "stdout",
     "output_type": "stream",
     "text": [
      "This Sandwich costs $8.74\n",
      "Hot Pastrami Sandwich on dutch_crunch, with smoked_gouda, pickles,lettuce,mixed_greens,pepperoncinis,tomato,basil,red_onions,arugula,sprouts,jalapenos balsamic_vinagrette,hummus. Add bacon,guacamole.\n"
     ]
    }
   ],
   "source": [
    "sandwich_maker2(15,14,2,2)"
   ]
  }
 ],
 "metadata": {
  "kernelspec": {
   "display_name": "Python 3",
   "language": "python",
   "name": "python3"
  },
  "language_info": {
   "codemirror_mode": {
    "name": "ipython",
    "version": 3
   },
   "file_extension": ".py",
   "mimetype": "text/x-python",
   "name": "python",
   "nbconvert_exporter": "python",
   "pygments_lexer": "ipython3",
   "version": "3.7.1"
  }
 },
 "nbformat": 4,
 "nbformat_minor": 2
}
