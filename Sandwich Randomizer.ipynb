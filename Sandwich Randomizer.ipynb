{
 "cells": [
  {
   "cell_type": "code",
   "execution_count": 4,
   "metadata": {},
   "outputs": [],
   "source": [
    "import pandas as pd\n",
    "import numpy as np\n",
    "import random\n",
    "import re"
   ]
  },
  {
   "cell_type": "code",
   "execution_count": 24,
   "metadata": {},
   "outputs": [],
   "source": [
    "# Lists\n",
    "temp = ['Hot','Cold']\n",
    "meat = ['Roast_Turkey','Smoked_Turkey','Grilled_Chicken_Breast','Roast_Beef','Corned_Beef','Pastrami','Black_Forest_Ham','Organic_Smoked_Tofu','Dry_Salami','Tuna_Salad','Chicken_Salad','Prosciutto','Hot_Coppa','Mild_Coppa','Honey_Ham']\n",
    "greens = ['lettuce','tomato','red_onions','pickles','pepperoncinis','mixed_greens','arugula','sprouts','basil','jalapenos']\n",
    "spreads = ['mayonnaise','deli_mustard','dijon_mustard','aioli','chipotle_mayo','mendocino_mustard','basil_pesto','hummus','cranberry_sauce','sundried_tomato_pesto','balsamic_vinagrette']\n",
    "bread = ['sliced_wheat','sliced_rye','sliced_white','sliced_sourdough','french_roll(soft)','sourdough_roll','wheat_roll','rosemary_focaccia','ciabatta','dutch_crunch']\n",
    "cheese = ['pepperjack','monterey_jack','swiss','mozzarella','smoked_gouda','havarti','meunster','provolone','american_white','american_yellow','cheddar','no_cheese']\n",
    "extra = ['double_meat','double_cheese','avocado','guacamole','bacon','olive_oil&vinegar','roasted_red_peppers','goat_cheese','cream_cheese']\n",
    "separator = \",\"\n",
    "\n",
    "\n",
    "\n"
   ]
  },
  {
   "cell_type": "code",
   "execution_count": 6,
   "metadata": {},
   "outputs": [],
   "source": [
    "# Dictionaries\n",
    "tempz = [{'Hot':0,'Cold':0}]\n",
    "meats = [{'Roast_Turkey':0,'Smoked_Turkey':0,'Grilled_Chicken_Breast':0,'Roast_Beef':0,'Corned_Beef':0,'Pastrami':0,'Black_Forest_Ham':0,'Organic_Smoked_Tofu':0,'Dry_Salami':0,'Tuna Salad':0,'Chicken Salad':0,'Prosciutto':1,'Hot Coppa':1,'Mild Coppa':1,'Honey Ham':0.75}]\n",
    "greenz = [{\"lettuce\":0,'tomato':0,'red onions':0,'pickles':0,'pepperoncinis':0,'mixed greens':0,'arugula':0,'sprouts':0,'basil':0,\"jalapenos\":0}]\n",
    "spreadz = [{'mayonnaise':0,'deli mustard':0,'dijon mustard':0,'aioli':0,'chipotle mayo':0,'mendocino mustard':0,'basil pesto':0,'hummus':0,'cranberry sauce':0,'sundried tomato pesto':0,'balsamic vinagrette':0}]\n",
    "breadz = [{'sliced wheat':0,'sliced rye':0,'sliced white':0,'sliced sourdough':0,'french roll (soft)':0,'sourdough roll':0,'wheat roll':0,'rosemary focaccia':0,'ciabatta':0,'dutch crunch':0}]\n",
    "cheesez = [{'pepperjack':0,'monterey jack':0,'swiss':0,'mozzarella':0,'smoked gouda':0,'havarti':0,'meunster':0,'provolone':0,'american white':0,'american yellow':0,'cheddar':0,'no cheese':0}]\n",
    "extras_totalz = [{'double meat':2,'double cheese':0.75,'avocado':0.75,'guacamole':0.75,'bacon':1,'olive oil & vinegar':0,'roasted red peppers':0.75,'goat cheese':0.75,'cream cheese':0.75}]\n",
    "\n",
    "everything = {'Hot':0,'Cold':0,'Roast_Turkey':0,'Smoked_Turkey':0,'Grilled_Chicken_Breast':0,'Roast_Beef':0,'Corned_Beef':0,'Pastrami':0,'Black_Forest_Ham':0,'Organic_Smoked_Tofu':0,'Dry_Salami':0,'Tuna_Salad':0,'Chicken_Salad':0,'Prosciutto':1,'Hot_Coppa':1,'Mild_Coppa':1,'Honey_Ham':0.75,'lettuce':0,'tomato':0,'red_onions':0,'pickles':0,'pepperoncinis':0,'mixed_greens':0,'arugula':0,'sprouts':0,'basil':0,'jalapenos':0,'mayonnaise':0,'deli_mustard':0,'dijon_mustard':0,'aioli':0,'chipotle_mayo':0,'mendocino_mustard':0,'basil_pesto':0,'hummus':0,'cranberry_sauce':0,'sundried_tomato_pesto':0,'balsamic_vinagrette':0,'sliced_wheat':0,'sliced_rye':0,'sliced_white':0,'sliced_sourdough':0,'french_roll(soft)':0,'sourdough_roll':0,'wheat_roll':0,'rosemary_focaccia':0,'ciabatta':0,'dutch_crunch':0,'pepperjack':0,'monterey_jack':0,'swiss':0,'mozzarella':0,'smoked_gouda':0,'havarti':0,'meunster':0,'provolone':0,'american_white':0,'american_yellow':0,'cheddar':0,'no_cheese':0,'double_meat':2,'double_cheese':0.75,'avocado':0.75,'guacamole':0.75,'bacon':1,'olive_oil&vinegar':0,'roasted_red_peppers':0.75,'goat_cheese':0.75,'cream_cheese':0.75,'':0}\n",
    "\n"
   ]
  },
  {
   "cell_type": "code",
   "execution_count": 7,
   "metadata": {},
   "outputs": [],
   "source": [
    "def compute_price(ingredients):\n",
    "    total = 6.99\n",
    "    total += sum([everything[s] for s in ingredients ])\n",
    "    return total"
   ]
  },
  {
   "cell_type": "code",
   "execution_count": 11,
   "metadata": {},
   "outputs": [],
   "source": [
    "# Deprecated,\n",
    "def sandwich_maker(x,y,z):\n",
    "    # x = number of greens, y = number of spreads, z = extras\n",
    "    #sandwich = str(random.choice(temp)) + \" \" + str(random.choice(meat))+ \" Sandwich with \" + str(separator.join(random.sample(greens,x)))+ \", \" + str(separator.join(random.sample(spreads,y)))+ \" on \" + str(random.choice(bread)) + \" with \" + str(random.choice(cheese))+'.'+\" Add \" +str(separator.join(random.sample(extras,z)))+\".\"\n",
    "    sandwich2 = (random.choice(temp)) + \",\" + str(random.choice(meat))+\",\" + str(separator.join(random.sample(greens,x)))+\",\" + str(separator.join(random.sample(spreads,y)))+\",\"+ str(random.choice(bread)) +\",\"+ str(random.choice(cheese))+\",\"+str(separator.join(random.sample(extra,z)))\n",
    "    sandwich2 = sandwich2.split(\",\")\n",
    "    cost = compute_price(sandwich2)\n",
    "    sandwich1 = str(sandwich2[0])+ \" \" +str(sandwich2[1])+ \" Sandwich with \" + str(sandwich2[2:2+x]) + \", \" + str(sandwich2[2+x:2+x+y]) + \" on \" + str(sandwich2[2+x+y:3+x+y]) + \" with \" + str(sandwich2[3+x+y:4+x+y]) + \".\" + \" Add \" + str(sandwich2[4+x+y:5+x+y+z])\n",
    "    print(\"This Sandwich costs $\"+ str(cost))\n",
    "    return print(sandwich1)\n"
   ]
  },
  {
   "cell_type": "code",
   "execution_count": 12,
   "metadata": {},
   "outputs": [
    {
     "name": "stdout",
     "output_type": "stream",
     "text": [
      "This Sandwich costs $8.49\n",
      "Cold Grilled_Chicken_Breast Sandwich with ['tomato'], ['aioli', 'dijon_mustard'] on ['rosemary_focaccia'] with ['no_cheese']. Add ['goat_cheese', 'guacamole', 'olive_oil&vinegar']\n"
     ]
    }
   ],
   "source": [
    "sandwich_maker(1,2,3)"
   ]
  },
  {
   "cell_type": "code",
   "execution_count": 29,
   "metadata": {},
   "outputs": [],
   "source": [
    "def sandwich_maker2(max_price,veggies,sauces,extras):\n",
    "    # Max price is max amount you want to pay\n",
    "    # Veggies (0-10), Sauces (0-12), Extras (0-8)\n",
    "    #sandwich = str(random.choice(temp)) + \" \" + str(random.choice(meat))+ \" Sandwich with \" + str(separator.join(random.sample(greens,x)))+ \", \" + str(separator.join(random.sample(spreads,y)))+ \" on \" + str(random.choice(bread)) + \" with \" + str(random.choice(cheese))+'.'+\" Add \" +str(separator.join(random.sample(extras,z)))+\".\"\n",
    "    sandwich2 = (random.choice(temp)) + \",\" + str(random.choice(meat))+\",\"+str(random.choice(bread)) +\",\"+ str(random.choice(cheese))+','+str(separator.join(random.sample(greens,veggies)))+\",\" + str(separator.join(random.sample(spreads,sauces)))+\",\"+str(separator.join(random.sample(extra,extras)))\n",
    "    sandwich2 = sandwich2.split(\",\")\n",
    "    cost = compute_price(sandwich2)\n",
    "    if max_price < 6.99:\n",
    "        print(\"No sandwich is this cheap!\")\n",
    "    else:\n",
    "        while cost > max_price:\n",
    "                sandwich2 = (random.choice(temp)) + \",\" + str(random.choice(meat))+\",\"+str(random.choice(bread)) +\",\"+ str(random.choice(cheese))+','+str(separator.join(random.sample(greens,veggies)))+\",\" + str(separator.join(random.sample(spreads,sauces)))+\",\"+str(separator.join(random.sample(extra,extras)))\n",
    "                sandwich2 = sandwich2.split(\",\")\n",
    "                cost = compute_price(sandwich2)\n",
    "                extras = abs(extras-1)\n",
    "                print(\"Extra additions have been lowered by 1 to accomodate price\")\n",
    "        if cost <= max_price:\n",
    "            print(f\"This Sandwich costs ${cost}\") # Sick \n",
    "            sandwich1 = str(sandwich2[0])+ \" \" +str(sandwich2[1])+ \" Sandwich on \" + str(sandwich2[2]) + \", with \" + str(sandwich2[3]) + \" ,\" + str(sandwich2[4:4+veggies]) + \" with \" + str(sandwich2[4+veggies:4+veggies+sauces]) + \". Add \" + str(sandwich2[4+veggies+sauces:4+veggies+sauces+extras])\n",
    "            print(sandwich1)\n",
    "    return\n",
    "\n",
    "# Want it to get as close to the entered price as possible\n"
   ]
  },
  {
   "cell_type": "code",
   "execution_count": 30,
   "metadata": {},
   "outputs": [
    {
     "name": "stdout",
     "output_type": "stream",
     "text": [
      "This Sandwich costs $6.99\n",
      "Cold Black_Forest_Ham Sandwich on sliced_wheat, with pepperjack ,['mixed_greens', 'pepperoncinis', 'pickles', 'lettuce', 'jalapenos', 'red_onions', 'tomato', 'arugula'] with ['balsamic_vinagrette', 'aioli', 'sundried_tomato_pesto', 'dijon_mustard']. Add []\n"
     ]
    }
   ],
   "source": [
    "sandwich_maker2(7,8,4,0)\n",
    "# This breaks if any value is 0 -> it outputs ''\n",
    "# Fixed the above but now my logic for the str is broken"
   ]
  },
  {
   "cell_type": "code",
   "execution_count": 196,
   "metadata": {},
   "outputs": [],
   "source": [
    "CB = \"Cold Grilled Chicken Breast Sandwich with ['red onions', 'lettuce', 'tomato'], ['cranberry sauce', 'mayonnaise', 'hummus'] on rosemary focaccia with monterey jack. Add ['roasted red peppers', 'bacon'].\""
   ]
  },
  {
   "cell_type": "code",
   "execution_count": null,
   "metadata": {},
   "outputs": [],
   "source": []
  }
 ],
 "metadata": {
  "kernelspec": {
   "display_name": "Python 3",
   "language": "python",
   "name": "python3"
  },
  "language_info": {
   "codemirror_mode": {
    "name": "ipython",
    "version": 3
   },
   "file_extension": ".py",
   "mimetype": "text/x-python",
   "name": "python",
   "nbconvert_exporter": "python",
   "pygments_lexer": "ipython3",
   "version": "3.7.1"
  }
 },
 "nbformat": 4,
 "nbformat_minor": 2
}
