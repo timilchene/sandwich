{
 "cells": [
  {
   "cell_type": "code",
   "execution_count": 1,
   "metadata": {},
   "outputs": [],
   "source": [
    "import pandas as pd\n",
    "import numpy as np\n",
    "import random\n",
    "import re"
   ]
  },
  {
   "cell_type": "code",
   "execution_count": 2,
   "metadata": {},
   "outputs": [],
   "source": [
    "# Lists\n",
    "temp = ['Hot','Cold']\n",
    "meat = ['Roast Turkey','Smoked Turkey','Grilled Chicken Breast','Roast Beef','Corned Beef','Pastrami','Black Forest Ham','Organic Smoked Tofu','Dry Salami','Tuna Salad','Chicken Salad','Prosciutto','Hot Coppa','Mild Coppa','Honey Ham']\n",
    "greens = ['lettuce','tomato','red onions','pickles','pepperoncinis','mixed greens','arugula','sprouts','basil','jalapenos']\n",
    "spreads = ['mayonnaise','deli mustard','dijon mustard','aioli','chipotle mayo','mendocino mustard','basil pesto','hummus','cranberry sauce','sundried tomato pesto','balsamic vinagrette']\n",
    "bread = ['sliced wheat','sliced rye','sliced white','sliced sourdough','french roll(soft)','sourdough roll','wheat roll','rosemary focaccia','ciabatta','dutch crunch']\n",
    "cheese = ['pepperjack','monterey jack','swiss','mozzarella','smoked gouda','havarti','meunster','provolone','american white','american yellow','cheddar','no cheese']\n",
    "extra = ['double meat','double cheese','avocado','guacamole','bacon','olive oil & vinegar','roasted red peppers','goat cheese','cream cheese']\n",
    "separator = \",\"\n",
    "\n",
    "# Dictionaries\n",
    "everything = {'Hot':0,'Cold':0,'Roast Turkey':0,'Smoked Turkey':0,'Grilled Chicken Breast':0,'Roast Beef':0,'Corned Beef':0,'Pastrami':0,'Black Forest Ham':0,'Organic Smoked Tofu':0,'Dry Salami':0,'Tuna Salad':0,'Chicken Salad':0,'Prosciutto':1,'Hot Coppa':1,'Mild Coppa':1,'Honey Ham':0.75,'lettuce':0,'tomato':0,'red onions':0,'pickles':0,'pepperoncinis':0,'mixed greens':0,'arugula':0,'sprouts':0,'basil':0,'jalapenos':0,'mayonnaise':0,'deli mustard':0,'dijon mustard':0,'aioli':0,'chipotle mayo':0,'mendocino mustard':0,'basil pesto':0,'hummus':0,'cranberry sauce':0,'sundried tomato pesto':0,'balsamic vinagrette':0,'sliced wheat':0,'sliced rye':0,'sliced white':0,'sliced sourdough':0,'french roll(soft)':0,'sourdough roll':0,'wheat roll':0,'rosemary focaccia':0,'ciabatta':0,'dutch crunch':0,'pepperjack':0,'monterey jack':0,'swiss':0,'mozzarella':0,'smoked gouda':0,'havarti':0,'meunster':0,'provolone':0,'american white':0,'american yellow':0,'cheddar':0,'no cheese':0,'double meat':2,'double cheese':0.75,'avocado':0.75,'guacamole':0.75,'bacon':1,'olive oil & vinegar':0,'roasted red peppers':0.75,'goat cheese':0.75,'cream cheese':0.75,'':0}\n"
   ]
  },
  {
   "cell_type": "code",
   "execution_count": 5,
   "metadata": {},
   "outputs": [],
   "source": [
    "def compute_price(ingredients):\n",
    "    total = 6.99\n",
    "    total += sum([everything[s] for s in ingredients ])\n",
    "    return total"
   ]
  },
  {
   "cell_type": "code",
   "execution_count": 12,
   "metadata": {},
   "outputs": [],
   "source": [
    "def sandwich_maker2(max_price,veggies,sauces,extras):\n",
    "    # Max price is max amount you want to pay\n",
    "    # Veggies (0-10), Sauces (0-12), Extras (0-8)\n",
    "    #sandwich = str(random.choice(temp)) + \" \" + str(random.choice(meat))+ \" Sandwich with \" + str(separator.join(random.sample(greens,x)))+ \", \" + str(separator.join(random.sample(spreads,y)))+ \" on \" + str(random.choice(bread)) + \" with \" + str(random.choice(cheese))+'.'+\" Add \" +str(separator.join(random.sample(extras,z)))+\".\"\n",
    "    while veggies < 0: # Checks for negatives\n",
    "        veggies += 1\n",
    "    while veggies > 10: # Checks for values greater than total veggies possible\n",
    "        veggies -= 1\n",
    "    while sauces < 0:\n",
    "        sauces += 1\n",
    "    while sauces > 12:\n",
    "        sauces -= 1\n",
    "    while extras < 0:\n",
    "        extras += 1\n",
    "    while extras > 8:\n",
    "        sauces -=1\n",
    "    rt = random.choice(temp)\n",
    "    rm = random.choice(meat)\n",
    "    rb = random.choice(bread)\n",
    "    rc = random.choice(cheese)\n",
    "    rv = separator.join(random.sample(greens,veggies))\n",
    "    rs = separator.join(random.sample(spreads,sauces))\n",
    "    ree = separator.join(random.sample(extra,extras))\n",
    "    #sandwich2 = rt + \",\" + rm +\",\"+ rb +\",\"+ rc +','+ rv +\",\" + rs +\",\"+ ree\n",
    "    sandwich2 = f\"{rt},{rm},{rb},{rc},{rv},{rs},{ree}\"\n",
    "    sandwich2 = sandwich2.split(\",\")\n",
    "    cost = compute_price(sandwich2)\n",
    "    if max_price < 6.99:\n",
    "        print(\"No sandwich is this cheap!\")\n",
    "    else:\n",
    "        while cost > max_price:\n",
    "                rt = random.choice(temp)\n",
    "                rm = random.choice(meat)\n",
    "                rb = random.choice(bread)\n",
    "                rc = random.choice(cheese)\n",
    "                rv = separator.join(random.sample(greens,veggies))\n",
    "                rs = separator.join(random.sample(spreads,sauces))\n",
    "                ree = separator.join(random.sample(extra,extras))\n",
    "                #sandwich2 = rt + \",\" + rm +\",\"+ rb +\",\"+ rc +','+ rv +\",\" + rs +\",\"+ ree\n",
    "                sandwich2 = f\"{rt},{rm},{rb},{rc},{rv},{rs},{ree}\"\n",
    "                sandwich2 = sandwich2.split(\",\")\n",
    "                cost = compute_price(sandwich2)\n",
    "                extras = abs(extras-1)\n",
    "                print(\"Extra additions have been lowered by 1 or changed to accomodate price\")\n",
    "        if cost <= max_price:\n",
    "            #veggies = veggies +1\n",
    "            print(f\"This Sandwich costs ${cost}\") # Sick \n",
    "            sandwich = f\"{rt} {rm} Sandwich on {rb}, with {rc}, {rv},{rs}. Add {ree}.\"\n",
    "            #sandwich = rt + \" \" + rm + \" Sandwich on \" + rb + \", with \" + rc + \", \" + rv + \" \" + rs + \". Add \" + ree + \".\"\n",
    "            #sandwich = str(sandwich2[0])+ \" \" +str(sandwich2[1])+ \" Sandwich on \" + str(sandwich2[2]) + \", with \" + str(sandwich2[3]) + \" ,\" + str(sandwich2[4:4+veggies]) + \" with \" + str(sandwich2[4+veggies:4+veggies+sauces]) + \". Add \" + str(sandwich2[4+veggies+sauces:4+veggies+sauces+extras])\n",
    "            print(sandwich)\n",
    "    return\n",
    "\n",
    "# Want it to get as close to the entered price as possible\n",
    "# Variables fix the issue with 0's and makes them not in a list []!\n"
   ]
  },
  {
   "cell_type": "code",
   "execution_count": 13,
   "metadata": {},
   "outputs": [
    {
     "name": "stdout",
     "output_type": "stream",
     "text": [
      "This Sandwich costs $8.74\n",
      "Hot Hot Coppa Sandwich on rosemary focaccia, with cheddar, sprouts,tomato,pickles,red onions,arugula,basil,deli mustard,mayonnaise,aioli. Add avocado.\n"
     ]
    }
   ],
   "source": [
    "sandwich_maker2(20,6,3,1)"
   ]
  },
  {
   "cell_type": "code",
   "execution_count": 3,
   "metadata": {},
   "outputs": [],
   "source": [
    "# Deprecated,\n",
    "def sandwich_maker(x,y,z):\n",
    "    # x = number of greens, y = number of spreads, z = extras\n",
    "    #sandwich = str(random.choice(temp)) + \" \" + str(random.choice(meat))+ \" Sandwich with \" + str(separator.join(random.sample(greens,x)))+ \", \" + str(separator.join(random.sample(spreads,y)))+ \" on \" + str(random.choice(bread)) + \" with \" + str(random.choice(cheese))+'.'+\" Add \" +str(separator.join(random.sample(extras,z)))+\".\"\n",
    "    sandwich2 = (random.choice(temp)) + \",\" + str(random.choice(meat))+\",\" + str(separator.join(random.sample(greens,x)))+\",\" + str(separator.join(random.sample(spreads,y)))+\",\"+ str(random.choice(bread)) +\",\"+ str(random.choice(cheese))+\",\"+str(separator.join(random.sample(extra,z)))\n",
    "    sandwich2 = sandwich2.split(\",\")\n",
    "    cost = compute_price(sandwich2)\n",
    "    sandwich1 = str(sandwich2[0])+ \" \" +str(sandwich2[1])+ \" Sandwich with \" + str(sandwich2[2:2+x]) + \", \" + str(sandwich2[2+x:2+x+y]) + \" on \" + str(sandwich2[2+x+y:3+x+y]) + \" with \" + str(sandwich2[3+x+y:4+x+y]) + \".\" + \" Add \" + str(sandwich2[4+x+y:5+x+y+z])\n",
    "    print(\"This Sandwich costs $\"+ str(cost))\n",
    "    return print(sandwich1)\n"
   ]
  },
  {
   "cell_type": "code",
   "execution_count": 9,
   "metadata": {},
   "outputs": [],
   "source": [
    "# Testing\n",
    "def sandwich_maker2(max_price,veggies,sauces,extras):\n",
    "    # Max price is max amount you want to pay\n",
    "    # Veggies (0-10), Sauces (0-12), Extras (0-8)\n",
    "    #sandwich = str(random.choice(temp)) + \" \" + str(random.choice(meat))+ \" Sandwich with \" + str(separator.join(random.sample(greens,x)))+ \", \" + str(separator.join(random.sample(spreads,y)))+ \" on \" + str(random.choice(bread)) + \" with \" + str(random.choice(cheese))+'.'+\" Add \" +str(separator.join(random.sample(extras,z)))+\".\"\n",
    "    if max_price < 6.99:\n",
    "        print(\"No sandwich is this cheap!\")\n",
    "        return\n",
    "    while veggies < 0: # Checks for negatives\n",
    "        veggies += 1\n",
    "    while veggies > 10: # Checks for values greater than total veggies possible\n",
    "        veggies -= 1\n",
    "    while sauces < 0:\n",
    "        sauces += 1\n",
    "    while sauces > 12:\n",
    "        sauces -= 1\n",
    "    while extras < 0:\n",
    "        extras += 1\n",
    "    while extras > 8:\n",
    "        sauces -=1\n",
    "    rt = random.choice(temp)\n",
    "    rm = random.choice(meat)\n",
    "    rb = random.choice(bread)\n",
    "    rc = random.choice(cheese)\n",
    "    rv = separator.join(random.sample(greens,veggies))\n",
    "    rs = separator.join(random.sample(spreads,sauces))\n",
    "    ree = separator.join(random.sample(extra,extras))\n",
    "    #sandwich2 = rt + \",\" + rm +\",\"+ rb +\",\"+ rc +','+ rv +\",\" + rs +\",\"+ ree\n",
    "    sandwich2 = f\"{rt},{rm},{rb},{rc},{rv},{rs},{ree}\"\n",
    "    sandwich2 = sandwich2.split(\",\")\n",
    "    cost = compute_price(sandwich2)\n",
    "    while cost > max_price:\n",
    "        rt = random.choice(temp)\n",
    "        rm = random.choice(meat)\n",
    "        rb = random.choice(bread)\n",
    "        rc = random.choice(cheese)\n",
    "        rv = separator.join(random.sample(greens,veggies))\n",
    "        rs = separator.join(random.sample(spreads,sauces))\n",
    "        ree = separator.join(random.sample(extra,extras))\n",
    "        #sandwich2 = rt + \",\" + rm +\",\"+ rb +\",\"+ rc +','+ rv +\",\" + rs +\",\"+ ree\n",
    "        sandwich2 = f\"{rt},{rm},{rb},{rc},{rv},{rs},{ree}\"\n",
    "        sandwich2 = sandwich2.split(\",\")\n",
    "        cost = compute_price(sandwich2)\n",
    "        extras = abs(extras-1)\n",
    "        print(\"Extra additions have been lowered by 1 or changed to accomodate price\")\n",
    "        print(f\"This Sandwich costs ${cost}\") # Sick \n",
    "        sandwich = f\"{rt} {rm} Sandwich on {rb}, with {rc}, {rv},{rs}. Add {ree}.\"\n",
    "            #sandwich = rt + \" \" + rm + \" Sandwich on \" + rb + \", with \" + rc + \", \" + rv + \" \" + rs + \". Add \" + ree + \".\"\n",
    "            #sandwich = str(sandwich2[0])+ \" \" +str(sandwich2[1])+ \" Sandwich on \" + str(sandwich2[2]) + \", with \" + str(sandwich2[3]) + \" ,\" + str(sandwich2[4:4+veggies]) + \" with \" + str(sandwich2[4+veggies:4+veggies+sauces]) + \". Add \" + str(sandwich2[4+veggies+sauces:4+veggies+sauces+extras])\n",
    "        print(sandwich)\n",
    "    return\n",
    "\n",
    "# Want it to get as close to the entered price as possible\n",
    "# Variables fix the issue with 0's and makes them not in a list []!\n"
   ]
  },
  {
   "cell_type": "code",
   "execution_count": 11,
   "metadata": {},
   "outputs": [
    {
     "name": "stdout",
     "output_type": "stream",
     "text": [
      "Extra additions have been lowered by 1 or changed to accomodate price\n",
      "This Sandwich costs $10.49\n",
      "Cold Hot Coppa Sandwich on sliced sourdough, with meunster, pickles,jalapenos,mixed greens,sprouts,tomato,deli mustard,basil pesto. Add cream cheese,bacon,double cheese.\n",
      "Extra additions have been lowered by 1 or changed to accomodate price\n",
      "This Sandwich costs $8.74\n",
      "Hot Tuna Salad Sandwich on dutch crunch, with no cheese, pepperoncinis,basil,arugula,mixed greens,sprouts,basil pesto,mendocino mustard. Add double cheese,bacon.\n"
     ]
    }
   ],
   "source": [
    "sandwich_maker2(9,5,2,3)"
   ]
  },
  {
   "cell_type": "code",
   "execution_count": null,
   "metadata": {},
   "outputs": [],
   "source": []
  },
  {
   "cell_type": "code",
   "execution_count": null,
   "metadata": {},
   "outputs": [],
   "source": []
  }
 ],
 "metadata": {
  "kernelspec": {
   "display_name": "Python 3",
   "language": "python",
   "name": "python3"
  },
  "language_info": {
   "codemirror_mode": {
    "name": "ipython",
    "version": 3
   },
   "file_extension": ".py",
   "mimetype": "text/x-python",
   "name": "python",
   "nbconvert_exporter": "python",
   "pygments_lexer": "ipython3",
   "version": "3.7.1"
  }
 },
 "nbformat": 4,
 "nbformat_minor": 2
}
