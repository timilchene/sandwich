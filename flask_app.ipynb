{
 "cells": [
  {
   "cell_type": "code",
   "execution_count": 1,
   "metadata": {},
   "outputs": [],
   "source": [
    "# Required Packages\n",
    "import pandas as pd\n",
    "import numpy as np\n",
    "import random\n",
    "import re\n",
    "import fnmatch\n",
    "\n",
    "# Flask and some other stuff\n",
    "from flask import Flask, render_template, request\n",
    "import requests\n",
    "from urllib.error import URLError\n"
   ]
  },
  {
   "cell_type": "code",
   "execution_count": 2,
   "metadata": {},
   "outputs": [],
   "source": [
    "app = Flask(__name__)"
   ]
  },
  {
   "cell_type": "code",
   "execution_count": 3,
   "metadata": {},
   "outputs": [],
   "source": [
    "# Ingredients List\n",
    "temp = ['Hot','Cold']\n",
    "temp_list = pd.DataFrame(temp, columns = ['Temperature'])\n",
    "\n",
    "meat = ['Roast Turkey','Smoked Turkey','Grilled Chicken Breast','Roast Beef','Corned Beef','Pastrami','Black Forest Ham','Organic Smoked Tofu','Dry Salami','Tuna Salad','Chicken Salad','Prosciutto','Hot Coppa','Mild Coppa','Honey Ham']\n",
    "meat_list = pd.DataFrame(meat, columns = ['Meats'])\n",
    "\n",
    "greens = ['lettuce','tomato','red onions','pickles','pepperoncinis','mixed greens','arugula','sprouts','basil','jalapenos']\n",
    "greens_list = pd.DataFrame(greens, columns = ['Veggies'])\n",
    "\n",
    "spreads = ['mayonnaise','deli mustard','dijon mustard','aioli','chipotle mayo','mendocino mustard','basil pesto','hummus','cranberry sauce','sundried tomato pesto','balsamic vinagrette']\n",
    "spreads_list = pd.DataFrame(spreads, columns = ['Spreads'])\n",
    "\n",
    "bread = ['sliced wheat','sliced rye','sliced white','sliced sourdough','french roll (soft)','sourdough roll','wheat roll','rosemary focaccia','ciabatta','dutch crunch']\n",
    "bread_list = pd.DataFrame(bread, columns = ['Breads'])\n",
    "\n",
    "cheese = ['pepperjack','monterey jack','swiss','mozzarella','smoked gouda','havarti','meunster','provolone','american white cheese','american yellow cheese','cheddar','no cheese']\n",
    "cheese_list = pd.DataFrame(cheese, columns = ['Cheeses'])\n",
    "\n",
    "extra = ['double meat','double cheese','avocado','guacamole','bacon','olive oil & vinegar','roasted red peppers','goat cheese','cream cheese']\n",
    "extra_list = pd.DataFrame(extra, columns = ['Extras'])\n",
    "\n",
    "total_ingredients = pd.concat([temp_list, meat_list, greens_list, spreads_list, bread_list, cheese_list, extra_list], axis = 1)\n",
    "\n",
    "separator = \",\"\n",
    "all_ingredients = temp + meat + greens + spreads + bread + cheese + extra"
   ]
  },
  {
   "cell_type": "code",
   "execution_count": 4,
   "metadata": {},
   "outputs": [],
   "source": [
    "# Dictionaries\n",
    "everything = {'Hot':0,'Cold':0,'Roast Turkey':0,'Smoked Turkey':0,'Grilled Chicken Breast':0,'Roast Beef':0,'Corned Beef':0,'Pastrami':0,'Black Forest Ham':0,'Organic Smoked Tofu':0,'Dry Salami':0,'Tuna Salad':0,'Chicken Salad':0,'Prosciutto':1,'Hot Coppa':1,'Mild Coppa':1,'Honey Ham':0.75,'lettuce':0,'tomato':0,'red onions':0,'pickles':0,'pepperoncinis':0,'mixed greens':0,'arugula':0,'sprouts':0,'basil':0,'jalapenos':0,'mayonnaise':0,'deli mustard':0,'dijon mustard':0,'aioli':0,'chipotle mayo':0,'mendocino mustard':0,'basil pesto':0,'hummus':0,'cranberry sauce':0,'sundried tomato pesto':0,'balsamic vinagrette':0,'sliced wheat':0,'sliced rye':0,'sliced white':0,'sliced sourdough':0,'french roll (soft)':0,'sourdough roll':0,'wheat roll':0,'rosemary focaccia':0,'ciabatta':0,'dutch crunch':0,'pepperjack':0,'monterey jack':0,'swiss':0,'mozzarella':0,'smoked gouda':0,'havarti':0,'meunster':0,'provolone':0,'american white cheese':0,'american yellow cheese':0,'cheddar':0,'no cheese':0,'double meat':2,'double cheese':0.75,'avocado':0.75,'guacamole':0.75,'bacon':1,'olive oil & vinegar':0,'roasted red peppers':0.75,'goat cheese':0.75,'cream cheese':0.75,'':0}\n",
    "everything2 = {'Hot':0,'Cold':0,'Roast Turkey':0,'Smoked Turkey':0,'Grilled Chicken Breast':0,'Roast Beef':0,'Corned Beef':0,'Pastrami':0,'Black Forest Ham':0,'Organic Smoked Tofu':0,'Dry Salami':0,'Tuna Salad':0,'Chicken Salad':0,'Prosciutto':1,'Hot Coppa':1,'Mild Coppa':1,'Honey Ham':0.75,'lettuce':0,'tomato':0,'red onions':0,'pickles':0,'pepperoncinis':0,'mixed greens':0,'arugula':0,'sprouts':0,'basil':0,'jalapenos':0,'mayonnaise':0,'deli mustard':0,'dijon mustard':0,'aioli':0,'chipotle mayo':0,'mendocino mustard':0,'basil pesto':0,'hummus':0,'cranberry sauce':0,'sundried tomato pesto':0,'balsamic vinagrette':0,'sliced wheat':0,'sliced rye':0,'sliced white':0,'sliced sourdough':0,'french roll (soft)':0,'sourdough roll':0,'wheat roll':0,'rosemary focaccia':0,'ciabatta':0,'dutch crunch':0,'pepperjack':0,'monterey jack':0,'swiss':0,'mozzarella':0,'smoked gouda':0,'havarti':0,'meunster':0,'provolone':0,'american white cheese':0,'american yellow cheese':0,'cheddar':0,'no cheese':0,'double meat':2,'double cheese':0.75,'avocado':0.75,'guacamole':0.75,'bacon':1,'olive oil & vinegar':0,'roasted red peppers':0.75,'goat cheese':0.75,'cream cheese':0.75,'':0}\n",
    "\n",
    "\n",
    "# Required Function for sandwich_maker\n",
    "def compute_price(ingredients):\n",
    "    total = 7.99 # New price update\n",
    "    total += sum([everything[s] for s in ingredients ])\n",
    "    return total\n",
    "\n",
    "\n"
   ]
  },
  {
   "cell_type": "code",
   "execution_count": 7,
   "metadata": {},
   "outputs": [
    {
     "ename": "AssertionError",
     "evalue": "View function mapping is overwriting an existing endpoint function: index",
     "output_type": "error",
     "traceback": [
      "\u001b[0;31m---------------------------------------------------------------------------\u001b[0m",
      "\u001b[0;31mAssertionError\u001b[0m                            Traceback (most recent call last)",
      "\u001b[0;32m/var/folders/db/sn5yd_3n6mn97xym0wccns940000gn/T/ipykernel_41002/3193027759.py\u001b[0m in \u001b[0;36m<module>\u001b[0;34m\u001b[0m\n\u001b[1;32m      1\u001b[0m \u001b[0;31m# Final Version\u001b[0m\u001b[0;34m\u001b[0m\u001b[0;34m\u001b[0m\u001b[0;34m\u001b[0m\u001b[0m\n\u001b[1;32m      2\u001b[0m \u001b[0;34m@\u001b[0m\u001b[0mapp\u001b[0m\u001b[0;34m.\u001b[0m\u001b[0mroute\u001b[0m\u001b[0;34m(\u001b[0m\u001b[0;34m'/'\u001b[0m\u001b[0;34m)\u001b[0m\u001b[0;34m\u001b[0m\u001b[0;34m\u001b[0m\u001b[0m\n\u001b[0;32m----> 3\u001b[0;31m \u001b[0;32mdef\u001b[0m \u001b[0mindex\u001b[0m\u001b[0;34m(\u001b[0m\u001b[0;34m)\u001b[0m\u001b[0;34m:\u001b[0m\u001b[0;34m\u001b[0m\u001b[0;34m\u001b[0m\u001b[0m\n\u001b[0m\u001b[1;32m      4\u001b[0m     \u001b[0;32mreturn\u001b[0m \u001b[0mrender_template\u001b[0m\u001b[0;34m(\u001b[0m\u001b[0;34m'index.html'\u001b[0m\u001b[0;34m)\u001b[0m\u001b[0;34m\u001b[0m\u001b[0;34m\u001b[0m\u001b[0m\n\u001b[1;32m      5\u001b[0m \u001b[0;34m\u001b[0m\u001b[0m\n",
      "\u001b[0;32m~/opt/anaconda3/lib/python3.8/site-packages/flask/scaffold.py\u001b[0m in \u001b[0;36mdecorator\u001b[0;34m(f)\u001b[0m\n\u001b[1;32m    444\u001b[0m         \u001b[0;32mdef\u001b[0m \u001b[0mdecorator\u001b[0m\u001b[0;34m(\u001b[0m\u001b[0mf\u001b[0m\u001b[0;34m:\u001b[0m \u001b[0mft\u001b[0m\u001b[0;34m.\u001b[0m\u001b[0mRouteDecorator\u001b[0m\u001b[0;34m)\u001b[0m \u001b[0;34m->\u001b[0m \u001b[0mft\u001b[0m\u001b[0;34m.\u001b[0m\u001b[0mRouteDecorator\u001b[0m\u001b[0;34m:\u001b[0m\u001b[0;34m\u001b[0m\u001b[0;34m\u001b[0m\u001b[0m\n\u001b[1;32m    445\u001b[0m             \u001b[0mendpoint\u001b[0m \u001b[0;34m=\u001b[0m \u001b[0moptions\u001b[0m\u001b[0;34m.\u001b[0m\u001b[0mpop\u001b[0m\u001b[0;34m(\u001b[0m\u001b[0;34m\"endpoint\"\u001b[0m\u001b[0;34m,\u001b[0m \u001b[0;32mNone\u001b[0m\u001b[0;34m)\u001b[0m\u001b[0;34m\u001b[0m\u001b[0;34m\u001b[0m\u001b[0m\n\u001b[0;32m--> 446\u001b[0;31m             \u001b[0mself\u001b[0m\u001b[0;34m.\u001b[0m\u001b[0madd_url_rule\u001b[0m\u001b[0;34m(\u001b[0m\u001b[0mrule\u001b[0m\u001b[0;34m,\u001b[0m \u001b[0mendpoint\u001b[0m\u001b[0;34m,\u001b[0m \u001b[0mf\u001b[0m\u001b[0;34m,\u001b[0m \u001b[0;34m**\u001b[0m\u001b[0moptions\u001b[0m\u001b[0;34m)\u001b[0m\u001b[0;34m\u001b[0m\u001b[0;34m\u001b[0m\u001b[0m\n\u001b[0m\u001b[1;32m    447\u001b[0m             \u001b[0;32mreturn\u001b[0m \u001b[0mf\u001b[0m\u001b[0;34m\u001b[0m\u001b[0;34m\u001b[0m\u001b[0m\n\u001b[1;32m    448\u001b[0m \u001b[0;34m\u001b[0m\u001b[0m\n",
      "\u001b[0;32m~/opt/anaconda3/lib/python3.8/site-packages/flask/scaffold.py\u001b[0m in \u001b[0;36mwrapper_func\u001b[0;34m(self, *args, **kwargs)\u001b[0m\n\u001b[1;32m     48\u001b[0m                 \u001b[0;34m\" requests.\"\u001b[0m\u001b[0;34m\u001b[0m\u001b[0;34m\u001b[0m\u001b[0m\n\u001b[1;32m     49\u001b[0m             )\n\u001b[0;32m---> 50\u001b[0;31m         \u001b[0;32mreturn\u001b[0m \u001b[0mf\u001b[0m\u001b[0;34m(\u001b[0m\u001b[0mself\u001b[0m\u001b[0;34m,\u001b[0m \u001b[0;34m*\u001b[0m\u001b[0margs\u001b[0m\u001b[0;34m,\u001b[0m \u001b[0;34m**\u001b[0m\u001b[0mkwargs\u001b[0m\u001b[0;34m)\u001b[0m\u001b[0;34m\u001b[0m\u001b[0;34m\u001b[0m\u001b[0m\n\u001b[0m\u001b[1;32m     51\u001b[0m \u001b[0;34m\u001b[0m\u001b[0m\n\u001b[1;32m     52\u001b[0m     \u001b[0;32mreturn\u001b[0m \u001b[0mt\u001b[0m\u001b[0;34m.\u001b[0m\u001b[0mcast\u001b[0m\u001b[0;34m(\u001b[0m\u001b[0mF\u001b[0m\u001b[0;34m,\u001b[0m \u001b[0mupdate_wrapper\u001b[0m\u001b[0;34m(\u001b[0m\u001b[0mwrapper_func\u001b[0m\u001b[0;34m,\u001b[0m \u001b[0mf\u001b[0m\u001b[0;34m)\u001b[0m\u001b[0;34m)\u001b[0m\u001b[0;34m\u001b[0m\u001b[0;34m\u001b[0m\u001b[0m\n",
      "\u001b[0;32m~/opt/anaconda3/lib/python3.8/site-packages/flask/app.py\u001b[0m in \u001b[0;36madd_url_rule\u001b[0;34m(self, rule, endpoint, view_func, provide_automatic_options, **options)\u001b[0m\n\u001b[1;32m   1082\u001b[0m             \u001b[0mold_func\u001b[0m \u001b[0;34m=\u001b[0m \u001b[0mself\u001b[0m\u001b[0;34m.\u001b[0m\u001b[0mview_functions\u001b[0m\u001b[0;34m.\u001b[0m\u001b[0mget\u001b[0m\u001b[0;34m(\u001b[0m\u001b[0mendpoint\u001b[0m\u001b[0;34m)\u001b[0m\u001b[0;34m\u001b[0m\u001b[0;34m\u001b[0m\u001b[0m\n\u001b[1;32m   1083\u001b[0m             \u001b[0;32mif\u001b[0m \u001b[0mold_func\u001b[0m \u001b[0;32mis\u001b[0m \u001b[0;32mnot\u001b[0m \u001b[0;32mNone\u001b[0m \u001b[0;32mand\u001b[0m \u001b[0mold_func\u001b[0m \u001b[0;34m!=\u001b[0m \u001b[0mview_func\u001b[0m\u001b[0;34m:\u001b[0m\u001b[0;34m\u001b[0m\u001b[0;34m\u001b[0m\u001b[0m\n\u001b[0;32m-> 1084\u001b[0;31m                 raise AssertionError(\n\u001b[0m\u001b[1;32m   1085\u001b[0m                     \u001b[0;34m\"View function mapping is overwriting an existing\"\u001b[0m\u001b[0;34m\u001b[0m\u001b[0;34m\u001b[0m\u001b[0m\n\u001b[1;32m   1086\u001b[0m                     \u001b[0;34mf\" endpoint function: {endpoint}\"\u001b[0m\u001b[0;34m\u001b[0m\u001b[0;34m\u001b[0m\u001b[0m\n",
      "\u001b[0;31mAssertionError\u001b[0m: View function mapping is overwriting an existing endpoint function: index"
     ]
    }
   ],
   "source": [
    "\n",
    "# Final Version\n",
    "@app.route('/')\n",
    "def index():\n",
    "    return render_template('index.html')\n",
    "\n",
    "\n",
    "@app.route('/sandwich_maker', methods=['POST'])\n",
    "def sandwich_maker():\n",
    "    name = request.form['name']\n",
    "    return render_template('index.html', name=name)\n",
    "\n",
    "\n",
    "if __name__ == '__main__':\n",
    "    app.run(debug=True)\n",
    "\n",
    "#streamlit.write(output)"
   ]
  },
  {
   "cell_type": "code",
   "execution_count": 6,
   "metadata": {},
   "outputs": [],
   "source": [
    "def sandwich_maker(max_price,temperature,veggies,sauces,extras):\n",
    "    # Max price is max amount you want to pay\n",
    "    # Veggies (0-10), Sauces (0-12), Extras (0-8)\n",
    "    #sandwich = str(random.choice(temp)) + \" \" + str(random.choice(meat))+ \" Sandwich with \" + str(separator.join(random.sample(greens,x)))+ \", \" + str(separator.join(random.sample(spreads,y)))+ \" on \" + str(random.choice(bread)) + \" with \" + str(random.choice(cheese))+'.'+\" Add \" +str(separator.join(random.sample(extras,z)))+\".\"\n",
    "    if veggies < 0: # Checks for negatives\n",
    "        veggies = 0\n",
    "        print(\"You can't have negative vegetables!\")\n",
    "    if veggies > 10: # Checks for values greater than total veggies possible\n",
    "        veggies = 10\n",
    "        print(\"There are only 10 total vegetables!\")\n",
    "    if sauces < 0:\n",
    "        sauces = 0\n",
    "        print(\"You can't have negative sauces!\")\n",
    "    if sauces > 11:\n",
    "        sauces = 11\n",
    "        print(\"There are only 11 total sauces!\")\n",
    "    if extras < 0:\n",
    "        extras = 0\n",
    "        print(\"You can't have negative extras!\")\n",
    "    if extras > 8:\n",
    "        extras = 8 \n",
    "        print(\"There are only 8 total extras!\")\n",
    "    if fnmatch.fnmatch(temperature.lower(), \"*hot*\"): #  if fnmatch.fnmatch(file, '*.txt'):\n",
    "        rt = temp[0] # Changed to use temp list\n",
    "    elif fnmatch.fnmatch(temperature.lower(), \"*cold*\"):\n",
    "        rt = temp[1]\n",
    "    else:\n",
    "        rt = random.choice(temp)\n",
    "        \n",
    "    rm = random.choice(meat)\n",
    "    rb = random.choice(bread)\n",
    "    rc = random.choice(cheese)\n",
    "    rv = separator.join(random.sample(greens,veggies))\n",
    "    rs = separator.join(random.sample(spreads,sauces))\n",
    "    ree = separator.join(random.sample(extra,extras))\n",
    "    #sandwich2 = rt + \",\" + rm +\",\"+ rb +\",\"+ rc +','+ rv +\",\" + rs +\",\"+ ree\n",
    "    sandwich2 = f\"{rt},{rm},{rb},{rc},{rv},{rs},{ree}\"\n",
    "    sandwich3 = sandwich2.split(\",\")\n",
    "    cost = compute_price(sandwich3)\n",
    "    if max_price < 7.99: # Updated price\n",
    "        print(\"No sandwich is this cheap!\")\n",
    "    else:\n",
    "        while cost > max_price:\n",
    "                # rt = random.choice(temp)# Here is where temp issue arises     \n",
    "                rm = random.choice(meat)\n",
    "                rb = random.choice(bread)\n",
    "                rc = random.choice(cheese)\n",
    "                rv = separator.join(random.sample(greens,veggies))\n",
    "                rs = separator.join(random.sample(spreads,sauces))\n",
    "                ree = separator.join(random.sample(extra,extras))\n",
    "                #sandwich2 = rt + \",\" + rm +\",\"+ rb +\",\"+ rc +','+ rv +\",\" + rs +\",\"+ ree\n",
    "                sandwich2 = f\"{rt},{rm},{rb},{rc},{rv},{rs},{ree}\"\n",
    "                sandwich3 = sandwich2.split(\",\")\n",
    "                cost = compute_price(sandwich3)\n",
    "                extras = abs(extras-1)\n",
    "                print(\"Extra or premium additions have been lowered by 1 or changed to accomodate price\")\n",
    "        if cost <= max_price:\n",
    "            sandwich2 = f\"{rt},{rm},{rb},{rc},{rv},{rs},{ree}\"\n",
    "            sandwich3 = sandwich2.split(\",\")\n",
    "            cost = compute_price(sandwich3)\n",
    "            if ree == \"\": # Basically if extras are all removed\n",
    "                print(f\"This Sandwich costs ${cost}\") # Sick \n",
    "                sandwich = f\"{rt} {rm} Sandwich on {rb},with {rc},{rv},{rs}.\"\n",
    "                sandwich_remove_commas = sandwich.replace(\",,\",\",\")\n",
    "                sandwich_remove_errors = sandwich_remove_commas.replace(\",.\",\".\")\n",
    "                sandwich_final = sandwich_remove_errors.replace(\",\",\", \")\n",
    "                print(sandwich_final)\n",
    "            else:\n",
    "                print(f\"This Sandwich costs ${cost}\") # Sick \n",
    "                sandwich = f\"{rt} {rm} Sandwich on {rb},with {rc},{rv},{rs}. Add {ree}.\"\n",
    "                sandwich_remove_commas = sandwich.replace(\",,\",\",\")\n",
    "                sandwich_remove_errors = sandwich_remove_commas.replace(\",.\",\".\")\n",
    "                sandwich_final = sandwich_remove_errors.replace(\",\",\", \")\n",
    "                print(sandwich_final)\n",
    "            #sandwich = rt + \" \" + rm + \" Sandwich on \" + rb + \", with \" + rc + \", \" + rv + \" \" + rs + \". Add \" + ree + \".\"\n",
    "            #sandwich = str(sandwich2[0])+ \" \" +str(sandwich2[1])+ \" Sandwich on \" + str(sandwich2[2]) + \", with \" + str(sandwich2[3]) + \" ,\" + str(sandwich2[4:4+veggies]) + \" with \" + str(sandwich2[4+veggies:4+veggies+sauces]) + \". Add \" + str(sandwich2[4+veggies+sauces:4+veggies+sauces+extras])\n",
    "    return\n",
    "\n",
    "# Most recent changes: While -> if statements for performance\n"
   ]
  },
  {
   "cell_type": "code",
   "execution_count": 12,
   "metadata": {},
   "outputs": [
    {
     "name": "stdout",
     "output_type": "stream",
     "text": [
      "This Sandwich costs $10.24\n",
      "Hot Black Forest Ham Sandwich on sliced white, with havarti, arugula, red onions, lettuce, pickles, mendocino mustard, aioli, basil pesto. Add guacamole, double cheese, olive oil & vinegar, roasted red peppers.\n"
     ]
    }
   ],
   "source": [
    "sandwich_maker(14,\"blank\",4,3,4)"
   ]
  },
  {
   "cell_type": "code",
   "execution_count": null,
   "metadata": {},
   "outputs": [],
   "source": []
  }
 ],
 "metadata": {
  "kernelspec": {
   "display_name": "Python 3.8.13 ('base')",
   "language": "python",
   "name": "python3"
  },
  "language_info": {
   "codemirror_mode": {
    "name": "ipython",
    "version": 3
   },
   "file_extension": ".py",
   "mimetype": "text/x-python",
   "name": "python",
   "nbconvert_exporter": "python",
   "pygments_lexer": "ipython3",
   "version": "3.8.13"
  },
  "orig_nbformat": 4,
  "vscode": {
   "interpreter": {
    "hash": "9d0dee10dc6da22c107c4353b0ac0428393555377949b0f60ed0e684a8222ef7"
   }
  }
 },
 "nbformat": 4,
 "nbformat_minor": 2
}
